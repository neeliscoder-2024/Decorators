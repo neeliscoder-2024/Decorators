{
  "nbformat": 4,
  "nbformat_minor": 0,
  "metadata": {
    "colab": {
      "provenance": []
    },
    "kernelspec": {
      "name": "python3",
      "display_name": "Python 3"
    },
    "language_info": {
      "name": "python"
    }
  },
  "cells": [
    {
      "cell_type": "markdown",
      "source": [
        "Decorator is a special feature which is used to change the behaviour of another function or method without changing the code.\n",
        "\n",
        "Decorator are denoted as @ decorator_name, which is going to be decorated upon.\n",
        "\n",
        "Decorator are two types:-\n",
        "*   Built-in methods\n",
        "    1.   @classmethod\n",
        "          *   It's the method which is bound to be in class level perspective not the instance.\n",
        "          *   It's represented as cls as argument not self attribute.    \n",
        "          2.   @staticmethod\n",
        "                *   static method which is bound not towards class or instance but it belongs to class namespace and acts as a normal function only.\n",
        "                *   It doesnot take ant argument like others.\n",
        "    \n",
        "*   custom decorator\n",
        "    It means that creating your own decorator itself.\n",
        "\n"
      ],
      "metadata": {
        "id": "ws3t3-a5QWn7"
      }
    },
    {
      "cell_type": "markdown",
      "source": [
        "Example of class method:"
      ],
      "metadata": {
        "id": "yUzM_-hRS1xc"
      }
    },
    {
      "cell_type": "code",
      "execution_count": 1,
      "metadata": {
        "colab": {
          "base_uri": "https://localhost:8080/"
        },
        "id": "HoqKklWNP9Go",
        "outputId": "df31f9f1-fb15-4510-cd2d-e3bcd98a9acc"
      },
      "outputs": [
        {
          "output_type": "stream",
          "name": "stdout",
          "text": [
            "2\n"
          ]
        }
      ],
      "source": [
        "class School:\n",
        "    student_count = 0\n",
        "    @classmethod\n",
        "    def add_student(cls):\n",
        "        cls.student_count += 1\n",
        "School.add_student()\n",
        "School.add_student()\n",
        "print(School.student_count)"
      ]
    },
    {
      "cell_type": "code",
      "source": [
        "# class method refers to all instances because here student_count belongs to class. So, that's why it's easily called.\n",
        "class School:\n",
        "    student_count = 0\n",
        "    @classmethod # function_name=class_name(function_name)\n",
        "    def add_student(cls):\n",
        "        cls.student_count += 1\n",
        "School.add_student()\n",
        "School.add_student()\n",
        "print(School.student_count) #2\n",
        "a = School() # 2 instances\n",
        "b = School()\n",
        "a.add_student()\n",
        "b.add_student()\n",
        "print(School.student_count) #total 4"
      ],
      "metadata": {
        "colab": {
          "base_uri": "https://localhost:8080/"
        },
        "id": "3vL9ytAAP-9a",
        "outputId": "77a51308-4889-40ad-e6b2-f30d92fd1a0e"
      },
      "execution_count": 2,
      "outputs": [
        {
          "output_type": "stream",
          "name": "stdout",
          "text": [
            "2\n",
            "4\n"
          ]
        }
      ]
    },
    {
      "cell_type": "markdown",
      "source": [
        "Example of static method"
      ],
      "metadata": {
        "id": "JZmAPKgTci3P"
      }
    },
    {
      "cell_type": "code",
      "source": [
        "class MyClass:\n",
        "    @staticmethod # greet=staticmethod(greet)\n",
        "    def greet(name):\n",
        "        print(f\"Hey, {name}!\")\n",
        "obj = MyClass()\n",
        "obj.greet(\"Aditya\")"
      ],
      "metadata": {
        "colab": {
          "base_uri": "https://localhost:8080/"
        },
        "id": "OMtoubIWXy46",
        "outputId": "dd246e88-c6f0-436f-b01c-29a0af615baf"
      },
      "execution_count": 3,
      "outputs": [
        {
          "output_type": "stream",
          "name": "stdout",
          "text": [
            "Hey, Aditya!\n"
          ]
        }
      ]
    },
    {
      "cell_type": "markdown",
      "source": [
        "Example of Custom Decorators"
      ],
      "metadata": {
        "id": "w5xm7mgFc7qk"
      }
    },
    {
      "cell_type": "code",
      "source": [
        "def my_decorator(original_function):\n",
        "    def wrapper():\n",
        "        print(\"Before the function runs\")\n",
        "        original_function()\n",
        "        print(\"After the function runs\")\n",
        "    return wrapper\n",
        "@my_decorator #say_hello = my_decorator(say_hello)\n",
        "def say_hello():\n",
        "    print(\"Hello! Neel\")\n",
        "say_hello() #Calling the function then goes to @my_decorator, which wraps the original function with extra behavior and returns a new function that gets executed instead of the original."
      ],
      "metadata": {
        "colab": {
          "base_uri": "https://localhost:8080/"
        },
        "id": "fXqS7oQFcWVX",
        "outputId": "b9c8a471-60d4-4080-e269-37e16af06ffe"
      },
      "execution_count": 4,
      "outputs": [
        {
          "output_type": "stream",
          "name": "stdout",
          "text": [
            "Before the function runs\n",
            "Hello! Neel\n",
            "After the function runs\n"
          ]
        }
      ]
    },
    {
      "cell_type": "code",
      "source": [],
      "metadata": {
        "id": "hdOXEOWUd_ow"
      },
      "execution_count": 4,
      "outputs": []
    }
  ]
}
